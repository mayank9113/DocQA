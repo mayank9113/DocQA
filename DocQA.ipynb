{
 "cells": [
  {
   "cell_type": "code",
   "execution_count": null,
   "metadata": {},
   "outputs": [],
   "source": [
    "import openai\n",
    "import fitz  # PyMuPDF\n",
    "import pytesseract\n",
    "import os\n",
    "from dotenv import load_dotenv\n",
    "import chromadb\n",
    "from chromadb.config import Settings\n",
    "from tqdm import tqdm\n",
    "import pandas as pd"
   ]
  },
  {
   "cell_type": "code",
   "execution_count": null,
   "metadata": {},
   "outputs": [],
   "source": [
    "# Load environment variables from .env file\n",
    "load_dotenv()"
   ]
  },
  {
   "cell_type": "code",
   "execution_count": null,
   "metadata": {},
   "outputs": [],
   "source": [
    "# Initialize OpenAI API key\n",
    "openai.api_key = os.getenv('OPENAI_API_KEY')"
   ]
  },
  {
   "cell_type": "code",
   "execution_count": null,
   "metadata": {},
   "outputs": [],
   "source": [
    "# Define paths\n",
    "input_path = os.getenv('INPUT_PATH')\n",
    "output_excel_path = os.getenv('OUTPUT_PATH') + 'Output.xlsx'"
   ]
  },
  {
   "cell_type": "code",
   "execution_count": null,
   "metadata": {},
   "outputs": [],
   "source": [
    "# Initialize ChromaDB client\n",
    "client = chromadb.Client(Settings())"
   ]
  },
  {
   "cell_type": "code",
   "execution_count": null,
   "metadata": {},
   "outputs": [],
   "source": [
    "# Check if collection exists; if not, create it\n",
    "collection_name = \"document_embeddings\"\n",
    "collection = client.get_or_create_collection(name=collection_name)"
   ]
  },
  {
   "cell_type": "code",
   "execution_count": null,
   "metadata": {},
   "outputs": [],
   "source": [
    "# Function to extract text from images using OCR\n",
    "def extract_text_from_image(image):\n",
    "    try:\n",
    "        return pytesseract.image_to_string(image)\n",
    "    except Exception as e:\n",
    "        print(f\"Error extracting text from image: {e}\")\n",
    "        return \"\""
   ]
  },
  {
   "cell_type": "code",
   "execution_count": null,
   "metadata": {},
   "outputs": [],
   "source": [
    "# Function to read and extract content from documents\n",
    "def read_documents(input_path):\n",
    "    documents = {}\n",
    "    try:\n",
    "        for file_name in os.listdir(input_path):\n",
    "            if file_name.endswith('.pdf'):\n",
    "                file_path = os.path.join(input_path, file_name)\n",
    "                document = fitz.open(file_path)\n",
    "                document_text = []\n",
    "                for page_number in range(len(document)):\n",
    "                    page = document.load_page(page_number)\n",
    "                    text = page.get_text()\n",
    "                    # If the text extraction fails or is empty, use OCR\n",
    "                    if not text.strip():\n",
    "                        pix = page.get_pixmap()\n",
    "                        text = extract_text_from_image(pix)\n",
    "                    document_text.append((page_number + 1, text))\n",
    "                documents[file_name] = document_text\n",
    "    except Exception as e:\n",
    "        print(f\"Error reading documents: {e}\")\n",
    "    return documents"
   ]
  },
  {
   "cell_type": "code",
   "execution_count": null,
   "metadata": {},
   "outputs": [],
   "source": [
    "# Function to create and store embeddings using OpenAI API\n",
    "def create_and_store_embeddings(documents):\n",
    "    ids = []\n",
    "    texts = []\n",
    "    metadata = []\n",
    "    try:\n",
    "        for file_name, pages in tqdm(documents.items(), desc=\"Reading Documents\"):\n",
    "            for page_number, text in pages:\n",
    "                response = openai.Embedding.create(\n",
    "                    model=\"text-embedding-ada-002\",\n",
    "                    input=text\n",
    "                )\n",
    "                doc_id = f\"{file_name}_{page_number}\"\n",
    "                ids.append(doc_id)\n",
    "                texts.append(text)\n",
    "                metadata.append({\"file_name\": file_name, \"page_number\": page_number})\n",
    "        \n",
    "        # Upsert embeddings into ChromaDB\n",
    "        collection.upsert(\n",
    "            documents=texts,\n",
    "            ids=ids,\n",
    "            metadatas=metadata\n",
    "        )\n",
    "    except Exception as e:\n",
    "        print(f\"Error creating and storing embeddings: {e}\")"
   ]
  },
  {
   "cell_type": "code",
   "execution_count": null,
   "metadata": {},
   "outputs": [],
   "source": [
    "# Function to find the most relevant answer based on query\n",
    "def find_answer(query):\n",
    "    try:\n",
    "        results = collection.query(\n",
    "            query_texts=[query],\n",
    "            n_results=1  # Number of closest matches to return; adjust if needed\n",
    "        )\n",
    "        \n",
    "        # Extract IDs and metadata\n",
    "        if 'ids' in results and len(results['ids']) > 0:\n",
    "            best_match_id = results['ids'][0][0]  # Get the ID of the best match\n",
    "            best_match_metadata = results['metadatas'][0][0]  # Get the metadata of the best match\n",
    "            return best_match_id, best_match_metadata\n",
    "    except Exception as e:\n",
    "        print(f\"Error finding answer: {e}\")\n",
    "    return None, None"
   ]
  },
  {
   "cell_type": "code",
   "execution_count": null,
   "metadata": {},
   "outputs": [],
   "source": [
    "# Function to get context from the best match\n",
    "def get_context(best_match_metadata):\n",
    "    if best_match_metadata:\n",
    "        try:\n",
    "            file_name = best_match_metadata.get('file_name')\n",
    "            page_number = best_match_metadata.get('page_number')\n",
    "            return file_name, page_number\n",
    "        except Exception as e:\n",
    "            print(f\"Error getting context: {e}\")\n",
    "    return None, None"
   ]
  },
  {
   "cell_type": "code",
   "execution_count": null,
   "metadata": {},
   "outputs": [],
   "source": [
    "# Function to get a presentable answer using OpenAI LLM\n",
    "def get_presentable_answer(query, context, documents):\n",
    "    try:\n",
    "        file_name, page_number = context\n",
    "        for file_name_key, pages in documents.items():\n",
    "            if file_name_key == file_name:\n",
    "                for page_num, text in pages:\n",
    "                    if page_num == page_number:\n",
    "                        response = openai.ChatCompletion.create(\n",
    "                            model=\"gpt-3.5-turbo\",\n",
    "                            messages=[\n",
    "                                {\"role\": \"system\", \"content\": \"You are a helpful assistant.\"},\n",
    "                                {\"role\": \"user\", \"content\": f\"Answer the following query based on the context provided:\\n\\nQuery: {query}\\n\\nContext: {text}\"}\n",
    "                            ],\n",
    "                            max_tokens=512\n",
    "                        )\n",
    "                        return response['choices'][0]['message']['content'].strip()\n",
    "    except Exception as e:\n",
    "        print(f\"Error getting presentable answer: {e}\")\n",
    "    return \"No context found.\"\n"
   ]
  },
  {
   "cell_type": "code",
   "execution_count": null,
   "metadata": {},
   "outputs": [],
   "source": [
    "# Function to run the DocumentQA\n",
    "def document_qa(query, documents):\n",
    "    try:\n",
    "        best_match_id, best_match_metadata = find_answer(query)\n",
    "        \n",
    "        if best_match_metadata:\n",
    "            context = get_context(best_match_metadata)\n",
    "            if context:\n",
    "                presentable_answer = get_presentable_answer(query, context, documents)\n",
    "                return {\n",
    "                    \"answer\": presentable_answer,\n",
    "                    \"file_name\": context[0],\n",
    "                    \"page_number\": context[1]\n",
    "                }\n",
    "    except Exception as e:\n",
    "        print(f\"Error in document_qa: {e}\")\n",
    "    return {\n",
    "        \"answer\": \"No relevant answer found.\",\n",
    "        \"file_name\": None,\n",
    "        \"page_number\": None\n",
    "    }"
   ]
  },
  {
   "cell_type": "code",
   "execution_count": null,
   "metadata": {},
   "outputs": [],
   "source": [
    "# Function to save results to Excel file\n",
    "def save_results_to_excel(results, output_excel_path):\n",
    "    df = pd.DataFrame(results, columns=[\"Question\", \"Answer\", \"PDF Name\", \"Page no\"])\n",
    "    \n",
    "    try:\n",
    "        with pd.ExcelWriter(output_excel_path, mode='a', if_sheet_exists='overlay') as writer:\n",
    "            df.to_excel(writer, index=False, header=False)\n",
    "    except FileNotFoundError:\n",
    "        df.to_excel(output_excel_path, index=False)  # Create file with header\n"
   ]
  },
  {
   "cell_type": "code",
   "execution_count": null,
   "metadata": {},
   "outputs": [],
   "source": [
    "# Main function to run the script\n",
    "def main(input_path):\n",
    "    try:\n",
    "        # Read and process documents\n",
    "        documents = read_documents(input_path)\n",
    "        \n",
    "        # Create and store embeddings\n",
    "        create_and_store_embeddings(documents)\n",
    "        \n",
    "        results = []\n",
    "        while True:\n",
    "            query = input(\"\\nEnter your query (type 'exit' to quit): \")\n",
    "            if query.lower() == 'exit':\n",
    "                print(\"\\nSaving answers...\")\n",
    "                save_results_to_excel(results, output_excel_path)\n",
    "                print(f\"Output created at {output_excel_path}\")\n",
    "                break\n",
    "            result = document_qa(query, documents)\n",
    "            results.append([query, result['answer'], result['file_name'], result['page_number']])\n",
    "            \n",
    "            print(\"\\n\" + \"=\"*40)\n",
    "            print(f\"Question: {query}\")\n",
    "            print(f\"Answer: {result['answer']}\")\n",
    "            print(f\"File: {result['file_name']}\")\n",
    "            print(f\"Page: {result['page_number']}\")\n",
    "            print(\"=\"*40)\n",
    "    except Exception as e:\n",
    "        print(f\"Error in main: {e}\")"
   ]
  },
  {
   "cell_type": "code",
   "execution_count": null,
   "metadata": {},
   "outputs": [],
   "source": [
    "# Execute the main function\n",
    "if __name__ == \"__main__\":\n",
    "    main(input_path)\n"
   ]
  }
 ],
 "metadata": {
  "language_info": {
   "name": "python"
  }
 },
 "nbformat": 4,
 "nbformat_minor": 2
}
